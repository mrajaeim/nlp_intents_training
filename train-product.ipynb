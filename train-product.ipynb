{
 "cells": [
  {
   "cell_type": "code",
   "execution_count": 1,
   "metadata": {},
   "outputs": [
    {
     "name": "stderr",
     "output_type": "stream",
     "text": [
      "c:\\Users\\Mohammad\\Anaconda3\\envs\\mybase\\lib\\site-packages\\tqdm\\auto.py:22: TqdmWarning: IProgress not found. Please update jupyter and ipywidgets. See https://ipywidgets.readthedocs.io/en/stable/user_install.html\n",
      "  from .autonotebook import tqdm as notebook_tqdm\n"
     ]
    }
   ],
   "source": [
    "import numpy as np\n",
    "import random\n",
    "import json\n",
    "import torch\n",
    "import torch.nn as nn\n",
    "from torch.utils.data import DataLoader\n",
    "from helpers import bag_of_words, tokenize, stem\n",
    "from model import NeuralNet\n",
    "from dataset import ChatDataset"
   ]
  },
  {
   "cell_type": "code",
   "execution_count": 2,
   "metadata": {},
   "outputs": [],
   "source": [
    "with open('./datasets/products.json', encoding=\"utf-8\") as p_file:\n",
    "    products = json.loads(p_file.read())"
   ]
  },
  {
   "cell_type": "code",
   "execution_count": 3,
   "metadata": {},
   "outputs": [
    {
     "name": "stdout",
     "output_type": "stream",
     "text": [
      "['Fjallraven - Foldsack No. 1 Backpack, Fits 15 Laptops', 'Fjallraven Foldsack', 'No 1', 'Backpack Fits', '15 Laptops']\n",
      "['Mens Casual Premium Slim Fit T-Shirts ', 'Mens Casual', 'Premium Slim', 'Fit T', 'T Shirts']\n",
      "['Mens Cotton Jacket', 'Mens Cotton', 'Cotton Jacket']\n",
      "['Mens Casual Slim Fit', 'Mens Casual', 'Slim Fit']\n",
      "[\"John Hardy Women's Legends Naga Gold & Silver Dragon Station Chain Bracelet\", 'John Hardy', 'Women s', 'Legends Naga', 'Gold Silver', 'Dragon Station', 'Chain Bracelet']\n",
      "['Solid Gold Petite Micropave ', 'Solid Gold', 'Petite Micropave']\n",
      "['White Gold Plated Princess', 'White Gold', 'Plated Princess']\n",
      "['Pierced Owl Rose Gold Plated Stainless Steel Double', 'Pierced Owl', 'Rose Gold', 'Plated Stainless', 'Steel Double']\n",
      "['WD 2TB Elements Portable External Hard Drive - USB 3.0 ', 'WD 2TB', 'Elements Portable', 'External Hard', 'Drive USB', '3 0']\n",
      "['SanDisk SSD PLUS 1TB Internal SSD - SATA III 6 Gb/s', 'SanDisk SSD', 'PLUS 1TB', 'Internal SSD', 'SATA III', '6 Gb', 'Gb s']\n",
      "['Silicon Power 256GB SSD 3D NAND A55 SLC Cache Performance Boost SATA III 2.5', 'Silicon Power', '256GB SSD', '3D NAND', 'A55 SLC', 'Cache Performance', 'Boost SATA', 'III 2', '2 5']\n",
      "['WD 4TB Gaming Drive Works with Playstation 4 Portable External Hard Drive', 'WD 4TB', 'Gaming Drive', 'Works with', 'Playstation 4', 'Portable External', 'Hard Drive']\n",
      "['Acer SB220Q bi 21.5 inches Full HD (1920 x 1080) IPS Ultra-Thin', 'Acer SB220Q', 'bi 21', '5 inches', 'Full HD', '1920 x', '1080 IPS', 'Ultra Thin']\n",
      "['Samsung 49-Inch CHG90 144Hz Curved Gaming Monitor (LC49HG90DMNXZA) – Super Ultrawide Screen QLED ', 'Samsung 49', 'Inch CHG90', '144Hz Curved', 'Gaming Monitor', 'LC49HG90DMNXZA Super', 'Ultrawide Screen', 'Screen QLED']\n",
      "[\"BIYLACLESEN Women's 3-in-1 Snowboard Jacket Winter Coats\", 'BIYLACLESEN Women', 's 3', 'in 1', 'Snowboard Jacket', 'Winter Coats']\n",
      "[\"Lock and Love Women's Removable Hooded Faux Leather Moto Biker Jacket\", 'Lock and', 'Love Women', 's Removable', 'Hooded Faux', 'Leather Moto', 'Biker Jacket']\n",
      "['Rain Jacket Women Windbreaker Striped Climbing Raincoats', 'Rain Jacket', 'Women Windbreaker', 'Striped Climbing', 'Climbing Raincoats']\n",
      "[\"MBJ Women's Solid Short Sleeve Boat Neck V \", 'MBJ Women', 's Solid', 'Short Sleeve', 'Boat Neck', 'Neck V']\n",
      "[\"Opna Women's Short Sleeve Moisture\", 'Opna Women', 's Short', 'Sleeve Moisture']\n",
      "['DANVOUY Womens T Shirt Casual Cotton Short', 'DANVOUY Womens', 'T Shirt', 'Casual Cotton', 'Cotton Short']\n"
     ]
    }
   ],
   "source": [
    "all_words = []\n",
    "tags = []\n",
    "xy = []\n",
    "for product in products:\n",
    "    tag = product['title']\n",
    "    tags.append(tag)\n",
    "    patterns = [product['title']]\n",
    "    product_title_words = tokenize(product['title'])\n",
    "    for i in range(0,len(product_title_words),2):\n",
    "        if i + 2 > len(product_title_words):\n",
    "            i -= 1\n",
    "        patterns.append(product_title_words[i] +\" \"+ product_title_words[i+1])\n",
    "    print(patterns)\n",
    "    for pattern in patterns:\n",
    "        w = tokenize(pattern)\n",
    "        if ''.join(w).isnumeric():\n",
    "            continue\n",
    "        for token in w:\n",
    "            if not token.isnumeric() and len(token) > 1:\n",
    "                all_words.append(token)\n",
    "        xy.append((w, tag))"
   ]
  },
  {
   "cell_type": "code",
   "execution_count": 4,
   "metadata": {},
   "outputs": [
    {
     "name": "stdout",
     "output_type": "stream",
     "text": [
      "['Fjallraven', 'Foldsack', 'No', 'Backpack', 'Fits', 'Laptops', 'Fjallraven', 'Foldsack', 'No', 'Backpack', 'Fits', 'Laptops', 'Mens', 'Casual', 'Premium', 'Slim', 'Fit', 'Shirts', 'Mens', 'Casual', 'Premium', 'Slim', 'Fit', 'Shirts', 'Mens', 'Cotton', 'Jacket', 'Mens', 'Cotton', 'Cotton', 'Jacket', 'Mens', 'Casual', 'Slim', 'Fit', 'Mens', 'Casual', 'Slim', 'Fit', 'John', 'Hardy', 'Women', 'Legends', 'Naga', 'Gold', 'Silver', 'Dragon', 'Station', 'Chain', 'Bracelet', 'John', 'Hardy', 'Women', 'Legends', 'Naga', 'Gold', 'Silver', 'Dragon', 'Station', 'Chain', 'Bracelet', 'Solid', 'Gold', 'Petite', 'Micropave', 'Solid', 'Gold', 'Petite', 'Micropave', 'White', 'Gold', 'Plated', 'Princess', 'White', 'Gold', 'Plated', 'Princess', 'Pierced', 'Owl', 'Rose', 'Gold', 'Plated', 'Stainless', 'Steel', 'Double', 'Pierced', 'Owl', 'Rose', 'Gold', 'Plated', 'Stainless', 'Steel', 'Double', 'WD', '2TB', 'Elements', 'Portable', 'External', 'Hard', 'Drive', 'USB', 'WD', '2TB', 'Elements', 'Portable', 'External', 'Hard', 'Drive', 'USB', 'SanDisk', 'SSD', 'PLUS', '1TB', 'Internal', 'SSD', 'SATA', 'III', 'Gb', 'SanDisk', 'SSD', 'PLUS', '1TB', 'Internal', 'SSD', 'SATA', 'III', 'Gb', 'Gb', 'Silicon', 'Power', '256GB', 'SSD', '3D', 'NAND', 'A55', 'SLC', 'Cache', 'Performance', 'Boost', 'SATA', 'III', 'Silicon', 'Power', '256GB', 'SSD', '3D', 'NAND', 'A55', 'SLC', 'Cache', 'Performance', 'Boost', 'SATA', 'III', 'WD', '4TB', 'Gaming', 'Drive', 'Works', 'with', 'Playstation', 'Portable', 'External', 'Hard', 'Drive', 'WD', '4TB', 'Gaming', 'Drive', 'Works', 'with', 'Playstation', 'Portable', 'External', 'Hard', 'Drive', 'Acer', 'SB220Q', 'bi', 'inches', 'Full', 'HD', 'IPS', 'Ultra', 'Thin', 'Acer', 'SB220Q', 'bi', 'inches', 'Full', 'HD', 'IPS', 'Ultra', 'Thin', 'Samsung', 'Inch', 'CHG90', '144Hz', 'Curved', 'Gaming', 'Monitor', 'LC49HG90DMNXZA', 'Super', 'Ultrawide', 'Screen', 'QLED', 'Samsung', 'Inch', 'CHG90', '144Hz', 'Curved', 'Gaming', 'Monitor', 'LC49HG90DMNXZA', 'Super', 'Ultrawide', 'Screen', 'Screen', 'QLED', 'BIYLACLESEN', 'Women', 'in', 'Snowboard', 'Jacket', 'Winter', 'Coats', 'BIYLACLESEN', 'Women', 'in', 'Snowboard', 'Jacket', 'Winter', 'Coats', 'Lock', 'and', 'Love', 'Women', 'Removable', 'Hooded', 'Faux', 'Leather', 'Moto', 'Biker', 'Jacket', 'Lock', 'and', 'Love', 'Women', 'Removable', 'Hooded', 'Faux', 'Leather', 'Moto', 'Biker', 'Jacket', 'Rain', 'Jacket', 'Women', 'Windbreaker', 'Striped', 'Climbing', 'Raincoats', 'Rain', 'Jacket', 'Women', 'Windbreaker', 'Striped', 'Climbing', 'Climbing', 'Raincoats', 'MBJ', 'Women', 'Solid', 'Short', 'Sleeve', 'Boat', 'Neck', 'MBJ', 'Women', 'Solid', 'Short', 'Sleeve', 'Boat', 'Neck', 'Neck', 'Opna', 'Women', 'Short', 'Sleeve', 'Moisture', 'Opna', 'Women', 'Short', 'Sleeve', 'Moisture', 'DANVOUY', 'Womens', 'Shirt', 'Casual', 'Cotton', 'Short', 'DANVOUY', 'Womens', 'Shirt', 'Casual', 'Cotton', 'Cotton', 'Short'] \n",
      "\n",
      "\n",
      "['Fjallraven - Foldsack No. 1 Backpack, Fits 15 Laptops', 'Mens Casual Premium Slim Fit T-Shirts ', 'Mens Cotton Jacket', 'Mens Casual Slim Fit', \"John Hardy Women's Legends Naga Gold & Silver Dragon Station Chain Bracelet\", 'Solid Gold Petite Micropave ', 'White Gold Plated Princess', 'Pierced Owl Rose Gold Plated Stainless Steel Double', 'WD 2TB Elements Portable External Hard Drive - USB 3.0 ', 'SanDisk SSD PLUS 1TB Internal SSD - SATA III 6 Gb/s', 'Silicon Power 256GB SSD 3D NAND A55 SLC Cache Performance Boost SATA III 2.5', 'WD 4TB Gaming Drive Works with Playstation 4 Portable External Hard Drive', 'Acer SB220Q bi 21.5 inches Full HD (1920 x 1080) IPS Ultra-Thin', 'Samsung 49-Inch CHG90 144Hz Curved Gaming Monitor (LC49HG90DMNXZA) – Super Ultrawide Screen QLED ', \"BIYLACLESEN Women's 3-in-1 Snowboard Jacket Winter Coats\", \"Lock and Love Women's Removable Hooded Faux Leather Moto Biker Jacket\", 'Rain Jacket Women Windbreaker Striped Climbing Raincoats', \"MBJ Women's Solid Short Sleeve Boat Neck V \", \"Opna Women's Short Sleeve Moisture\", 'DANVOUY Womens T Shirt Casual Cotton Short'] \n",
      "\n",
      "\n",
      "[(['Fjallraven', 'Foldsack', 'No', '1', 'Backpack', 'Fits', '15', 'Laptops'], 'Fjallraven - Foldsack No. 1 Backpack, Fits 15 Laptops'), (['Fjallraven', 'Foldsack'], 'Fjallraven - Foldsack No. 1 Backpack, Fits 15 Laptops'), (['No', '1'], 'Fjallraven - Foldsack No. 1 Backpack, Fits 15 Laptops'), (['Backpack', 'Fits'], 'Fjallraven - Foldsack No. 1 Backpack, Fits 15 Laptops'), (['15', 'Laptops'], 'Fjallraven - Foldsack No. 1 Backpack, Fits 15 Laptops'), (['Mens', 'Casual', 'Premium', 'Slim', 'Fit', 'T', 'Shirts'], 'Mens Casual Premium Slim Fit T-Shirts '), (['Mens', 'Casual'], 'Mens Casual Premium Slim Fit T-Shirts '), (['Premium', 'Slim'], 'Mens Casual Premium Slim Fit T-Shirts '), (['Fit', 'T'], 'Mens Casual Premium Slim Fit T-Shirts '), (['T', 'Shirts'], 'Mens Casual Premium Slim Fit T-Shirts '), (['Mens', 'Cotton', 'Jacket'], 'Mens Cotton Jacket'), (['Mens', 'Cotton'], 'Mens Cotton Jacket'), (['Cotton', 'Jacket'], 'Mens Cotton Jacket'), (['Mens', 'Casual', 'Slim', 'Fit'], 'Mens Casual Slim Fit'), (['Mens', 'Casual'], 'Mens Casual Slim Fit'), (['Slim', 'Fit'], 'Mens Casual Slim Fit'), (['John', 'Hardy', 'Women', 's', 'Legends', 'Naga', 'Gold', 'Silver', 'Dragon', 'Station', 'Chain', 'Bracelet'], \"John Hardy Women's Legends Naga Gold & Silver Dragon Station Chain Bracelet\"), (['John', 'Hardy'], \"John Hardy Women's Legends Naga Gold & Silver Dragon Station Chain Bracelet\"), (['Women', 's'], \"John Hardy Women's Legends Naga Gold & Silver Dragon Station Chain Bracelet\"), (['Legends', 'Naga'], \"John Hardy Women's Legends Naga Gold & Silver Dragon Station Chain Bracelet\"), (['Gold', 'Silver'], \"John Hardy Women's Legends Naga Gold & Silver Dragon Station Chain Bracelet\"), (['Dragon', 'Station'], \"John Hardy Women's Legends Naga Gold & Silver Dragon Station Chain Bracelet\"), (['Chain', 'Bracelet'], \"John Hardy Women's Legends Naga Gold & Silver Dragon Station Chain Bracelet\"), (['Solid', 'Gold', 'Petite', 'Micropave'], 'Solid Gold Petite Micropave '), (['Solid', 'Gold'], 'Solid Gold Petite Micropave '), (['Petite', 'Micropave'], 'Solid Gold Petite Micropave '), (['White', 'Gold', 'Plated', 'Princess'], 'White Gold Plated Princess'), (['White', 'Gold'], 'White Gold Plated Princess'), (['Plated', 'Princess'], 'White Gold Plated Princess'), (['Pierced', 'Owl', 'Rose', 'Gold', 'Plated', 'Stainless', 'Steel', 'Double'], 'Pierced Owl Rose Gold Plated Stainless Steel Double'), (['Pierced', 'Owl'], 'Pierced Owl Rose Gold Plated Stainless Steel Double'), (['Rose', 'Gold'], 'Pierced Owl Rose Gold Plated Stainless Steel Double'), (['Plated', 'Stainless'], 'Pierced Owl Rose Gold Plated Stainless Steel Double'), (['Steel', 'Double'], 'Pierced Owl Rose Gold Plated Stainless Steel Double'), (['WD', '2TB', 'Elements', 'Portable', 'External', 'Hard', 'Drive', 'USB', '3', '0'], 'WD 2TB Elements Portable External Hard Drive - USB 3.0 '), (['WD', '2TB'], 'WD 2TB Elements Portable External Hard Drive - USB 3.0 '), (['Elements', 'Portable'], 'WD 2TB Elements Portable External Hard Drive - USB 3.0 '), (['External', 'Hard'], 'WD 2TB Elements Portable External Hard Drive - USB 3.0 '), (['Drive', 'USB'], 'WD 2TB Elements Portable External Hard Drive - USB 3.0 '), (['SanDisk', 'SSD', 'PLUS', '1TB', 'Internal', 'SSD', 'SATA', 'III', '6', 'Gb', 's'], 'SanDisk SSD PLUS 1TB Internal SSD - SATA III 6 Gb/s'), (['SanDisk', 'SSD'], 'SanDisk SSD PLUS 1TB Internal SSD - SATA III 6 Gb/s'), (['PLUS', '1TB'], 'SanDisk SSD PLUS 1TB Internal SSD - SATA III 6 Gb/s'), (['Internal', 'SSD'], 'SanDisk SSD PLUS 1TB Internal SSD - SATA III 6 Gb/s'), (['SATA', 'III'], 'SanDisk SSD PLUS 1TB Internal SSD - SATA III 6 Gb/s'), (['6', 'Gb'], 'SanDisk SSD PLUS 1TB Internal SSD - SATA III 6 Gb/s'), (['Gb', 's'], 'SanDisk SSD PLUS 1TB Internal SSD - SATA III 6 Gb/s'), (['Silicon', 'Power', '256GB', 'SSD', '3D', 'NAND', 'A55', 'SLC', 'Cache', 'Performance', 'Boost', 'SATA', 'III', '2', '5'], 'Silicon Power 256GB SSD 3D NAND A55 SLC Cache Performance Boost SATA III 2.5'), (['Silicon', 'Power'], 'Silicon Power 256GB SSD 3D NAND A55 SLC Cache Performance Boost SATA III 2.5'), (['256GB', 'SSD'], 'Silicon Power 256GB SSD 3D NAND A55 SLC Cache Performance Boost SATA III 2.5'), (['3D', 'NAND'], 'Silicon Power 256GB SSD 3D NAND A55 SLC Cache Performance Boost SATA III 2.5'), (['A55', 'SLC'], 'Silicon Power 256GB SSD 3D NAND A55 SLC Cache Performance Boost SATA III 2.5'), (['Cache', 'Performance'], 'Silicon Power 256GB SSD 3D NAND A55 SLC Cache Performance Boost SATA III 2.5'), (['Boost', 'SATA'], 'Silicon Power 256GB SSD 3D NAND A55 SLC Cache Performance Boost SATA III 2.5'), (['III', '2'], 'Silicon Power 256GB SSD 3D NAND A55 SLC Cache Performance Boost SATA III 2.5'), (['WD', '4TB', 'Gaming', 'Drive', 'Works', 'with', 'Playstation', '4', 'Portable', 'External', 'Hard', 'Drive'], 'WD 4TB Gaming Drive Works with Playstation 4 Portable External Hard Drive'), (['WD', '4TB'], 'WD 4TB Gaming Drive Works with Playstation 4 Portable External Hard Drive'), (['Gaming', 'Drive'], 'WD 4TB Gaming Drive Works with Playstation 4 Portable External Hard Drive'), (['Works', 'with'], 'WD 4TB Gaming Drive Works with Playstation 4 Portable External Hard Drive'), (['Playstation', '4'], 'WD 4TB Gaming Drive Works with Playstation 4 Portable External Hard Drive'), (['Portable', 'External'], 'WD 4TB Gaming Drive Works with Playstation 4 Portable External Hard Drive'), (['Hard', 'Drive'], 'WD 4TB Gaming Drive Works with Playstation 4 Portable External Hard Drive'), (['Acer', 'SB220Q', 'bi', '21', '5', 'inches', 'Full', 'HD', '1920', 'x', '1080', 'IPS', 'Ultra', 'Thin'], 'Acer SB220Q bi 21.5 inches Full HD (1920 x 1080) IPS Ultra-Thin'), (['Acer', 'SB220Q'], 'Acer SB220Q bi 21.5 inches Full HD (1920 x 1080) IPS Ultra-Thin'), (['bi', '21'], 'Acer SB220Q bi 21.5 inches Full HD (1920 x 1080) IPS Ultra-Thin'), (['5', 'inches'], 'Acer SB220Q bi 21.5 inches Full HD (1920 x 1080) IPS Ultra-Thin'), (['Full', 'HD'], 'Acer SB220Q bi 21.5 inches Full HD (1920 x 1080) IPS Ultra-Thin'), (['1920', 'x'], 'Acer SB220Q bi 21.5 inches Full HD (1920 x 1080) IPS Ultra-Thin'), (['1080', 'IPS'], 'Acer SB220Q bi 21.5 inches Full HD (1920 x 1080) IPS Ultra-Thin'), (['Ultra', 'Thin'], 'Acer SB220Q bi 21.5 inches Full HD (1920 x 1080) IPS Ultra-Thin'), (['Samsung', '49', 'Inch', 'CHG90', '144Hz', 'Curved', 'Gaming', 'Monitor', 'LC49HG90DMNXZA', 'Super', 'Ultrawide', 'Screen', 'QLED'], 'Samsung 49-Inch CHG90 144Hz Curved Gaming Monitor (LC49HG90DMNXZA) – Super Ultrawide Screen QLED '), (['Samsung', '49'], 'Samsung 49-Inch CHG90 144Hz Curved Gaming Monitor (LC49HG90DMNXZA) – Super Ultrawide Screen QLED '), (['Inch', 'CHG90'], 'Samsung 49-Inch CHG90 144Hz Curved Gaming Monitor (LC49HG90DMNXZA) – Super Ultrawide Screen QLED '), (['144Hz', 'Curved'], 'Samsung 49-Inch CHG90 144Hz Curved Gaming Monitor (LC49HG90DMNXZA) – Super Ultrawide Screen QLED '), (['Gaming', 'Monitor'], 'Samsung 49-Inch CHG90 144Hz Curved Gaming Monitor (LC49HG90DMNXZA) – Super Ultrawide Screen QLED '), (['LC49HG90DMNXZA', 'Super'], 'Samsung 49-Inch CHG90 144Hz Curved Gaming Monitor (LC49HG90DMNXZA) – Super Ultrawide Screen QLED '), (['Ultrawide', 'Screen'], 'Samsung 49-Inch CHG90 144Hz Curved Gaming Monitor (LC49HG90DMNXZA) – Super Ultrawide Screen QLED '), (['Screen', 'QLED'], 'Samsung 49-Inch CHG90 144Hz Curved Gaming Monitor (LC49HG90DMNXZA) – Super Ultrawide Screen QLED '), (['BIYLACLESEN', 'Women', 's', '3', 'in', '1', 'Snowboard', 'Jacket', 'Winter', 'Coats'], \"BIYLACLESEN Women's 3-in-1 Snowboard Jacket Winter Coats\"), (['BIYLACLESEN', 'Women'], \"BIYLACLESEN Women's 3-in-1 Snowboard Jacket Winter Coats\"), (['s', '3'], \"BIYLACLESEN Women's 3-in-1 Snowboard Jacket Winter Coats\"), (['in', '1'], \"BIYLACLESEN Women's 3-in-1 Snowboard Jacket Winter Coats\"), (['Snowboard', 'Jacket'], \"BIYLACLESEN Women's 3-in-1 Snowboard Jacket Winter Coats\"), (['Winter', 'Coats'], \"BIYLACLESEN Women's 3-in-1 Snowboard Jacket Winter Coats\"), (['Lock', 'and', 'Love', 'Women', 's', 'Removable', 'Hooded', 'Faux', 'Leather', 'Moto', 'Biker', 'Jacket'], \"Lock and Love Women's Removable Hooded Faux Leather Moto Biker Jacket\"), (['Lock', 'and'], \"Lock and Love Women's Removable Hooded Faux Leather Moto Biker Jacket\"), (['Love', 'Women'], \"Lock and Love Women's Removable Hooded Faux Leather Moto Biker Jacket\"), (['s', 'Removable'], \"Lock and Love Women's Removable Hooded Faux Leather Moto Biker Jacket\"), (['Hooded', 'Faux'], \"Lock and Love Women's Removable Hooded Faux Leather Moto Biker Jacket\"), (['Leather', 'Moto'], \"Lock and Love Women's Removable Hooded Faux Leather Moto Biker Jacket\"), (['Biker', 'Jacket'], \"Lock and Love Women's Removable Hooded Faux Leather Moto Biker Jacket\"), (['Rain', 'Jacket', 'Women', 'Windbreaker', 'Striped', 'Climbing', 'Raincoats'], 'Rain Jacket Women Windbreaker Striped Climbing Raincoats'), (['Rain', 'Jacket'], 'Rain Jacket Women Windbreaker Striped Climbing Raincoats'), (['Women', 'Windbreaker'], 'Rain Jacket Women Windbreaker Striped Climbing Raincoats'), (['Striped', 'Climbing'], 'Rain Jacket Women Windbreaker Striped Climbing Raincoats'), (['Climbing', 'Raincoats'], 'Rain Jacket Women Windbreaker Striped Climbing Raincoats'), (['MBJ', 'Women', 's', 'Solid', 'Short', 'Sleeve', 'Boat', 'Neck', 'V'], \"MBJ Women's Solid Short Sleeve Boat Neck V \"), (['MBJ', 'Women'], \"MBJ Women's Solid Short Sleeve Boat Neck V \"), (['s', 'Solid'], \"MBJ Women's Solid Short Sleeve Boat Neck V \"), (['Short', 'Sleeve'], \"MBJ Women's Solid Short Sleeve Boat Neck V \"), (['Boat', 'Neck'], \"MBJ Women's Solid Short Sleeve Boat Neck V \"), (['Neck', 'V'], \"MBJ Women's Solid Short Sleeve Boat Neck V \"), (['Opna', 'Women', 's', 'Short', 'Sleeve', 'Moisture'], \"Opna Women's Short Sleeve Moisture\"), (['Opna', 'Women'], \"Opna Women's Short Sleeve Moisture\"), (['s', 'Short'], \"Opna Women's Short Sleeve Moisture\"), (['Sleeve', 'Moisture'], \"Opna Women's Short Sleeve Moisture\"), (['DANVOUY', 'Womens', 'T', 'Shirt', 'Casual', 'Cotton', 'Short'], 'DANVOUY Womens T Shirt Casual Cotton Short'), (['DANVOUY', 'Womens'], 'DANVOUY Womens T Shirt Casual Cotton Short'), (['T', 'Shirt'], 'DANVOUY Womens T Shirt Casual Cotton Short'), (['Casual', 'Cotton'], 'DANVOUY Womens T Shirt Casual Cotton Short'), (['Cotton', 'Short'], 'DANVOUY Womens T Shirt Casual Cotton Short')] \n",
      "\n",
      "\n",
      "[] \n",
      "\n",
      "\n"
     ]
    }
   ],
   "source": [
    "print(all_words, \"\\n\\n\")\n",
    "print(tags, \"\\n\\n\")\n",
    "print(xy, \"\\n\\n\")\n",
    "print([data for data in xy if data[1]=='Products'], \"\\n\\n\")"
   ]
  },
  {
   "cell_type": "code",
   "execution_count": 5,
   "metadata": {},
   "outputs": [],
   "source": [
    "ignore_words = ['?', '.', '!']\n",
    "all_words = [stem(w) for w in all_words if w not in ignore_words and len(w) > 1 and not w.isnumeric()]\n",
    "all_words = sorted(set(all_words))\n",
    "tags = sorted(set(tags))"
   ]
  },
  {
   "cell_type": "code",
   "execution_count": 6,
   "metadata": {},
   "outputs": [
    {
     "name": "stdout",
     "output_type": "stream",
     "text": [
      "110 patterns\n",
      "20 tags: ['Acer SB220Q bi 21.5 inches Full HD (1920 x 1080) IPS Ultra-Thin', \"BIYLACLESEN Women's 3-in-1 Snowboard Jacket Winter Coats\", 'DANVOUY Womens T Shirt Casual Cotton Short', 'Fjallraven - Foldsack No. 1 Backpack, Fits 15 Laptops', \"John Hardy Women's Legends Naga Gold & Silver Dragon Station Chain Bracelet\", \"Lock and Love Women's Removable Hooded Faux Leather Moto Biker Jacket\", \"MBJ Women's Solid Short Sleeve Boat Neck V \", 'Mens Casual Premium Slim Fit T-Shirts ', 'Mens Casual Slim Fit', 'Mens Cotton Jacket', \"Opna Women's Short Sleeve Moisture\", 'Pierced Owl Rose Gold Plated Stainless Steel Double', 'Rain Jacket Women Windbreaker Striped Climbing Raincoats', 'Samsung 49-Inch CHG90 144Hz Curved Gaming Monitor (LC49HG90DMNXZA) – Super Ultrawide Screen QLED ', 'SanDisk SSD PLUS 1TB Internal SSD - SATA III 6 Gb/s', 'Silicon Power 256GB SSD 3D NAND A55 SLC Cache Performance Boost SATA III 2.5', 'Solid Gold Petite Micropave ', 'WD 2TB Elements Portable External Hard Drive - USB 3.0 ', 'WD 4TB Gaming Drive Works with Playstation 4 Portable External Hard Drive', 'White Gold Plated Princess']\n",
      "113 unique stemmed words: ['144hz', '1tb', '256gb', '2tb', '3d', '4tb', 'a55', 'acer', 'and', 'backpack', 'bi', 'biker', 'biylaclesen', 'boat', 'boost', 'bracelet', 'cach', 'casual', 'chain', 'chg90', 'climb', 'coat', 'cotton', 'curv', 'danvouy', 'doubl', 'dragon', 'drive', 'element', 'extern', 'faux', 'fit', 'fjallraven', 'foldsack', 'full', 'game', 'gb', 'gold', 'hard', 'hardi', 'hd', 'hood', 'iii', 'in', 'inch', 'intern', 'ip', 'jacket', 'john', 'laptop', 'lc49hg90dmnxza', 'leather', 'legend', 'lock', 'love', 'mbj', 'men', 'micropav', 'moistur', 'monitor', 'moto', 'naga', 'nand', 'neck', 'no', 'opna', 'owl', 'perform', 'petit', 'pierc', 'plate', 'playstat', 'plu', 'portabl', 'power', 'premium', 'princess', 'qled', 'rain', 'raincoat', 'remov', 'rose', 'samsung', 'sandisk', 'sata', 'sb220q', 'screen', 'shirt', 'short', 'silicon', 'silver', 'slc', 'sleev', 'slim', 'snowboard', 'solid', 'ssd', 'stainless', 'station', 'steel', 'stripe', 'super', 'thin', 'ultra', 'ultrawid', 'usb', 'wd', 'white', 'windbreak', 'winter', 'with', 'women', 'work']\n"
     ]
    }
   ],
   "source": [
    "print(len(xy), \"patterns\")\n",
    "print(len(tags), \"tags:\", tags)\n",
    "print(len(all_words), \"unique stemmed words:\", all_words)"
   ]
  },
  {
   "cell_type": "code",
   "execution_count": 7,
   "metadata": {},
   "outputs": [],
   "source": [
    "X_train = []\n",
    "y_train = []\n",
    "for (pattern_sentence, tag) in xy:\n",
    "    bag = bag_of_words(pattern_sentence, all_words)\n",
    "    X_train.append(bag)\n",
    "    label = tags.index(tag)\n",
    "    y_train.append(label)"
   ]
  },
  {
   "cell_type": "code",
   "execution_count": 8,
   "metadata": {},
   "outputs": [],
   "source": [
    "X_train = np.array(X_train)\n",
    "y_train = np.array(y_train)"
   ]
  },
  {
   "cell_type": "code",
   "execution_count": 9,
   "metadata": {},
   "outputs": [
    {
     "name": "stdout",
     "output_type": "stream",
     "text": [
      "113 20\n"
     ]
    }
   ],
   "source": [
    "num_epochs = 1000\n",
    "batch_size = 12\n",
    "learning_rate = 0.001\n",
    "input_size = len(X_train[0])\n",
    "hidden_size = 24\n",
    "output_size = len(tags)\n",
    "print(input_size, output_size)"
   ]
  },
  {
   "cell_type": "code",
   "execution_count": 10,
   "metadata": {},
   "outputs": [],
   "source": [
    "dataset = ChatDataset(X_train, y_train)\n",
    "train_loader = DataLoader(dataset=dataset,\n",
    "                          batch_size=batch_size,\n",
    "                          shuffle=True,\n",
    "                          num_workers=0)"
   ]
  },
  {
   "cell_type": "code",
   "execution_count": 11,
   "metadata": {},
   "outputs": [],
   "source": [
    "device = torch.device('cuda' if torch.cuda.is_available() else 'cpu')"
   ]
  },
  {
   "cell_type": "code",
   "execution_count": 12,
   "metadata": {},
   "outputs": [],
   "source": [
    "model = NeuralNet(input_size, hidden_size, output_size).to(device)"
   ]
  },
  {
   "cell_type": "code",
   "execution_count": 13,
   "metadata": {},
   "outputs": [],
   "source": [
    "criterion = nn.CrossEntropyLoss()\n",
    "optimizer = torch.optim.Adam(model.parameters(), lr=learning_rate)"
   ]
  },
  {
   "cell_type": "code",
   "execution_count": 14,
   "metadata": {},
   "outputs": [
    {
     "name": "stdout",
     "output_type": "stream",
     "text": [
      "Epoch [100/1000], Loss: 0.9006\n",
      "Epoch [200/1000], Loss: 0.0047\n",
      "Epoch [300/1000], Loss: 0.0117\n",
      "Epoch [400/1000], Loss: 0.0004\n",
      "Epoch [500/1000], Loss: 0.0003\n",
      "Epoch [600/1000], Loss: 0.0002\n",
      "Epoch [700/1000], Loss: 0.0004\n",
      "Epoch [800/1000], Loss: 0.2061\n",
      "Epoch [900/1000], Loss: 0.0001\n",
      "Epoch [1000/1000], Loss: 0.0002\n"
     ]
    }
   ],
   "source": [
    "for epoch in range(num_epochs):\n",
    "    for (words, labels) in train_loader:\n",
    "        words = words.to(device)\n",
    "        labels = labels.to(dtype=torch.long).to(device)\n",
    "        \n",
    "        # Forward pass\n",
    "        outputs = model(words)\n",
    "        # if y would be one-hot, we must apply\n",
    "        # labels = torch.max(labels, 1)[1]\n",
    "        loss = criterion(outputs, labels)\n",
    "        \n",
    "        # Backward and optimize\n",
    "        optimizer.zero_grad()\n",
    "        loss.backward()\n",
    "        optimizer.step()\n",
    "        \n",
    "    if (epoch+1) % 100 == 0:\n",
    "        print (f'Epoch [{epoch+1}/{num_epochs}], Loss: {loss.item():.4f}')"
   ]
  },
  {
   "cell_type": "code",
   "execution_count": 15,
   "metadata": {},
   "outputs": [
    {
     "name": "stdout",
     "output_type": "stream",
     "text": [
      "final loss: 0.0002\n"
     ]
    }
   ],
   "source": [
    "print(f'final loss: {loss.item():.4f}')"
   ]
  },
  {
   "cell_type": "code",
   "execution_count": 16,
   "metadata": {},
   "outputs": [
    {
     "name": "stdout",
     "output_type": "stream",
     "text": [
      "training complete. file saved to ./models/product.pth\n"
     ]
    }
   ],
   "source": [
    "data = {\n",
    "\"model_state\": model.state_dict(),\n",
    "\"input_size\": input_size,\n",
    "\"hidden_size\": hidden_size,\n",
    "\"output_size\": output_size,\n",
    "\"all_words\": all_words,\n",
    "\"tags\": tags\n",
    "}\n",
    "\n",
    "FILE = \"./models/product.pth\"\n",
    "torch.save(data, FILE)\n",
    "\n",
    "print(f'training complete. file saved to {FILE}')"
   ]
  }
 ],
 "metadata": {
  "kernelspec": {
   "display_name": "mybase",
   "language": "python",
   "name": "python3"
  },
  "language_info": {
   "codemirror_mode": {
    "name": "ipython",
    "version": 3
   },
   "file_extension": ".py",
   "mimetype": "text/x-python",
   "name": "python",
   "nbconvert_exporter": "python",
   "pygments_lexer": "ipython3",
   "version": "3.10.8"
  },
  "orig_nbformat": 4,
  "vscode": {
   "interpreter": {
    "hash": "63dd3476773ec03dd9d9bac71f5f145a2cbd5a3a500695cf3c2da4a610a8a60c"
   }
  }
 },
 "nbformat": 4,
 "nbformat_minor": 2
}
