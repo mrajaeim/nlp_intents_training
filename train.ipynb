{
 "cells": [
  {
   "cell_type": "code",
   "execution_count": 1,
   "metadata": {},
   "outputs": [
    {
     "name": "stderr",
     "output_type": "stream",
     "text": [
      "c:\\Users\\Mohammad\\Anaconda3\\envs\\mybase\\lib\\site-packages\\tqdm\\auto.py:22: TqdmWarning: IProgress not found. Please update jupyter and ipywidgets. See https://ipywidgets.readthedocs.io/en/stable/user_install.html\n",
      "  from .autonotebook import tqdm as notebook_tqdm\n"
     ]
    }
   ],
   "source": [
    "import numpy as np\n",
    "import random\n",
    "import json\n",
    "import torch\n",
    "import torch.nn as nn\n",
    "from torch.utils.data import DataLoader\n",
    "from helpers import bag_of_words, tokenize, stem\n",
    "from model import NeuralNet\n",
    "from dataset import ChatDataset"
   ]
  },
  {
   "cell_type": "code",
   "execution_count": 2,
   "metadata": {},
   "outputs": [],
   "source": [
    "all_words = []\n",
    "tags = []\n",
    "xy = []\n",
    "\n",
    "with open('./datasets/intents.json', 'r') as f:\n",
    "    intents = json.load(f)"
   ]
  },
  {
   "cell_type": "code",
   "execution_count": 3,
   "metadata": {},
   "outputs": [],
   "source": [
    "with open('./datasets/products.json', encoding=\"utf-8\") as p_file:\n",
    "    products = json.loads(p_file.read())\n",
    "    \n",
    "product_names = [p['title'] for p in products]\n",
    "product_query_texts = intents['intents'][20]['text']\n",
    "product_query_texts_template_number = len(product_query_texts)\n",
    "TEMPLATE = \"<PRODUCT>\""
   ]
  },
  {
   "cell_type": "code",
   "execution_count": 4,
   "metadata": {},
   "outputs": [],
   "source": [
    "\n",
    "for text in product_query_texts:\n",
    "    if TEMPLATE not in text:\n",
    "        continue\n",
    "    for product in product_names:\n",
    "        product_query_texts.append(text.replace(TEMPLATE,product))\n",
    "\n",
    "\n",
    "intents['intents'][20]['text'] = product_query_texts[product_query_texts_template_number:]"
   ]
  },
  {
   "cell_type": "code",
   "execution_count": 5,
   "metadata": {},
   "outputs": [
    {
     "data": {
      "text/plain": [
       "['How Much Is Fjallraven - Foldsack No. 1 Backpack, Fits 15 Laptops?',\n",
       " 'How Much Is Mens Casual Premium Slim Fit T-Shirts ?',\n",
       " 'How Much Is Mens Cotton Jacket?',\n",
       " 'How Much Is Mens Casual Slim Fit?',\n",
       " \"How Much Is John Hardy Women's Legends Naga Gold & Silver Dragon Station Chain Bracelet?\",\n",
       " 'How Much Is Solid Gold Petite Micropave ?',\n",
       " 'How Much Is White Gold Plated Princess?',\n",
       " 'How Much Is Pierced Owl Rose Gold Plated Stainless Steel Double?',\n",
       " 'How Much Is WD 2TB Elements Portable External Hard Drive - USB 3.0 ?',\n",
       " 'How Much Is SanDisk SSD PLUS 1TB Internal SSD - SATA III 6 Gb/s?',\n",
       " 'How Much Is Silicon Power 256GB SSD 3D NAND A55 SLC Cache Performance Boost SATA III 2.5?',\n",
       " 'How Much Is WD 4TB Gaming Drive Works with Playstation 4 Portable External Hard Drive?',\n",
       " 'How Much Is Acer SB220Q bi 21.5 inches Full HD (1920 x 1080) IPS Ultra-Thin?',\n",
       " 'How Much Is Samsung 49-Inch CHG90 144Hz Curved Gaming Monitor (LC49HG90DMNXZA) – Super Ultrawide Screen QLED ?',\n",
       " \"How Much Is BIYLACLESEN Women's 3-in-1 Snowboard Jacket Winter Coats?\",\n",
       " \"How Much Is Lock and Love Women's Removable Hooded Faux Leather Moto Biker Jacket?\",\n",
       " 'How Much Is Rain Jacket Women Windbreaker Striped Climbing Raincoats?',\n",
       " \"How Much Is MBJ Women's Solid Short Sleeve Boat Neck V ?\",\n",
       " \"How Much Is Opna Women's Short Sleeve Moisture?\",\n",
       " 'How Much Is DANVOUY Womens T Shirt Casual Cotton Short?',\n",
       " 'How Much Does Fjallraven - Foldsack No. 1 Backpack, Fits 15 Laptops Cost?',\n",
       " 'How Much Does Mens Casual Premium Slim Fit T-Shirts  Cost?',\n",
       " 'How Much Does Mens Cotton Jacket Cost?',\n",
       " 'How Much Does Mens Casual Slim Fit Cost?',\n",
       " \"How Much Does John Hardy Women's Legends Naga Gold & Silver Dragon Station Chain Bracelet Cost?\",\n",
       " 'How Much Does Solid Gold Petite Micropave  Cost?',\n",
       " 'How Much Does White Gold Plated Princess Cost?',\n",
       " 'How Much Does Pierced Owl Rose Gold Plated Stainless Steel Double Cost?',\n",
       " 'How Much Does WD 2TB Elements Portable External Hard Drive - USB 3.0  Cost?',\n",
       " 'How Much Does SanDisk SSD PLUS 1TB Internal SSD - SATA III 6 Gb/s Cost?',\n",
       " 'How Much Does Silicon Power 256GB SSD 3D NAND A55 SLC Cache Performance Boost SATA III 2.5 Cost?',\n",
       " 'How Much Does WD 4TB Gaming Drive Works with Playstation 4 Portable External Hard Drive Cost?',\n",
       " 'How Much Does Acer SB220Q bi 21.5 inches Full HD (1920 x 1080) IPS Ultra-Thin Cost?',\n",
       " 'How Much Does Samsung 49-Inch CHG90 144Hz Curved Gaming Monitor (LC49HG90DMNXZA) – Super Ultrawide Screen QLED  Cost?',\n",
       " \"How Much Does BIYLACLESEN Women's 3-in-1 Snowboard Jacket Winter Coats Cost?\",\n",
       " \"How Much Does Lock and Love Women's Removable Hooded Faux Leather Moto Biker Jacket Cost?\",\n",
       " 'How Much Does Rain Jacket Women Windbreaker Striped Climbing Raincoats Cost?',\n",
       " \"How Much Does MBJ Women's Solid Short Sleeve Boat Neck V  Cost?\",\n",
       " \"How Much Does Opna Women's Short Sleeve Moisture Cost?\",\n",
       " 'How Much Does DANVOUY Womens T Shirt Casual Cotton Short Cost?',\n",
       " 'What Is the Price of Fjallraven - Foldsack No. 1 Backpack, Fits 15 Laptops?',\n",
       " 'What Is the Price of Mens Casual Premium Slim Fit T-Shirts ?',\n",
       " 'What Is the Price of Mens Cotton Jacket?',\n",
       " 'What Is the Price of Mens Casual Slim Fit?',\n",
       " \"What Is the Price of John Hardy Women's Legends Naga Gold & Silver Dragon Station Chain Bracelet?\",\n",
       " 'What Is the Price of Solid Gold Petite Micropave ?',\n",
       " 'What Is the Price of White Gold Plated Princess?',\n",
       " 'What Is the Price of Pierced Owl Rose Gold Plated Stainless Steel Double?',\n",
       " 'What Is the Price of WD 2TB Elements Portable External Hard Drive - USB 3.0 ?',\n",
       " 'What Is the Price of SanDisk SSD PLUS 1TB Internal SSD - SATA III 6 Gb/s?',\n",
       " 'What Is the Price of Silicon Power 256GB SSD 3D NAND A55 SLC Cache Performance Boost SATA III 2.5?',\n",
       " 'What Is the Price of WD 4TB Gaming Drive Works with Playstation 4 Portable External Hard Drive?',\n",
       " 'What Is the Price of Acer SB220Q bi 21.5 inches Full HD (1920 x 1080) IPS Ultra-Thin?',\n",
       " 'What Is the Price of Samsung 49-Inch CHG90 144Hz Curved Gaming Monitor (LC49HG90DMNXZA) – Super Ultrawide Screen QLED ?',\n",
       " \"What Is the Price of BIYLACLESEN Women's 3-in-1 Snowboard Jacket Winter Coats?\",\n",
       " \"What Is the Price of Lock and Love Women's Removable Hooded Faux Leather Moto Biker Jacket?\",\n",
       " 'What Is the Price of Rain Jacket Women Windbreaker Striped Climbing Raincoats?',\n",
       " \"What Is the Price of MBJ Women's Solid Short Sleeve Boat Neck V ?\",\n",
       " \"What Is the Price of Opna Women's Short Sleeve Moisture?\",\n",
       " 'What Is the Price of DANVOUY Womens T Shirt Casual Cotton Short?',\n",
       " 'What Is the Asking Price of Fjallraven - Foldsack No. 1 Backpack, Fits 15 Laptops?',\n",
       " 'What Is the Asking Price of Mens Casual Premium Slim Fit T-Shirts ?',\n",
       " 'What Is the Asking Price of Mens Cotton Jacket?',\n",
       " 'What Is the Asking Price of Mens Casual Slim Fit?',\n",
       " \"What Is the Asking Price of John Hardy Women's Legends Naga Gold & Silver Dragon Station Chain Bracelet?\",\n",
       " 'What Is the Asking Price of Solid Gold Petite Micropave ?',\n",
       " 'What Is the Asking Price of White Gold Plated Princess?',\n",
       " 'What Is the Asking Price of Pierced Owl Rose Gold Plated Stainless Steel Double?',\n",
       " 'What Is the Asking Price of WD 2TB Elements Portable External Hard Drive - USB 3.0 ?',\n",
       " 'What Is the Asking Price of SanDisk SSD PLUS 1TB Internal SSD - SATA III 6 Gb/s?',\n",
       " 'What Is the Asking Price of Silicon Power 256GB SSD 3D NAND A55 SLC Cache Performance Boost SATA III 2.5?',\n",
       " 'What Is the Asking Price of WD 4TB Gaming Drive Works with Playstation 4 Portable External Hard Drive?',\n",
       " 'What Is the Asking Price of Acer SB220Q bi 21.5 inches Full HD (1920 x 1080) IPS Ultra-Thin?',\n",
       " 'What Is the Asking Price of Samsung 49-Inch CHG90 144Hz Curved Gaming Monitor (LC49HG90DMNXZA) – Super Ultrawide Screen QLED ?',\n",
       " \"What Is the Asking Price of BIYLACLESEN Women's 3-in-1 Snowboard Jacket Winter Coats?\",\n",
       " \"What Is the Asking Price of Lock and Love Women's Removable Hooded Faux Leather Moto Biker Jacket?\",\n",
       " 'What Is the Asking Price of Rain Jacket Women Windbreaker Striped Climbing Raincoats?',\n",
       " \"What Is the Asking Price of MBJ Women's Solid Short Sleeve Boat Neck V ?\",\n",
       " \"What Is the Asking Price of Opna Women's Short Sleeve Moisture?\",\n",
       " 'What Is the Asking Price of DANVOUY Womens T Shirt Casual Cotton Short?',\n",
       " 'How Much Is the Cost of Fjallraven - Foldsack No. 1 Backpack, Fits 15 Laptops?',\n",
       " 'How Much Is the Cost of Mens Casual Premium Slim Fit T-Shirts ?',\n",
       " 'How Much Is the Cost of Mens Cotton Jacket?',\n",
       " 'How Much Is the Cost of Mens Casual Slim Fit?',\n",
       " \"How Much Is the Cost of John Hardy Women's Legends Naga Gold & Silver Dragon Station Chain Bracelet?\",\n",
       " 'How Much Is the Cost of Solid Gold Petite Micropave ?',\n",
       " 'How Much Is the Cost of White Gold Plated Princess?',\n",
       " 'How Much Is the Cost of Pierced Owl Rose Gold Plated Stainless Steel Double?',\n",
       " 'How Much Is the Cost of WD 2TB Elements Portable External Hard Drive - USB 3.0 ?',\n",
       " 'How Much Is the Cost of SanDisk SSD PLUS 1TB Internal SSD - SATA III 6 Gb/s?',\n",
       " 'How Much Is the Cost of Silicon Power 256GB SSD 3D NAND A55 SLC Cache Performance Boost SATA III 2.5?',\n",
       " 'How Much Is the Cost of WD 4TB Gaming Drive Works with Playstation 4 Portable External Hard Drive?',\n",
       " 'How Much Is the Cost of Acer SB220Q bi 21.5 inches Full HD (1920 x 1080) IPS Ultra-Thin?',\n",
       " 'How Much Is the Cost of Samsung 49-Inch CHG90 144Hz Curved Gaming Monitor (LC49HG90DMNXZA) – Super Ultrawide Screen QLED ?',\n",
       " \"How Much Is the Cost of BIYLACLESEN Women's 3-in-1 Snowboard Jacket Winter Coats?\",\n",
       " \"How Much Is the Cost of Lock and Love Women's Removable Hooded Faux Leather Moto Biker Jacket?\",\n",
       " 'How Much Is the Cost of Rain Jacket Women Windbreaker Striped Climbing Raincoats?',\n",
       " \"How Much Is the Cost of MBJ Women's Solid Short Sleeve Boat Neck V ?\",\n",
       " \"How Much Is the Cost of Opna Women's Short Sleeve Moisture?\",\n",
       " 'How Much Is the Cost of DANVOUY Womens T Shirt Casual Cotton Short?',\n",
       " 'Do You Know How Much Fjallraven - Foldsack No. 1 Backpack, Fits 15 Laptops Costs?',\n",
       " 'Do You Know How Much Mens Casual Premium Slim Fit T-Shirts  Costs?',\n",
       " 'Do You Know How Much Mens Cotton Jacket Costs?',\n",
       " 'Do You Know How Much Mens Casual Slim Fit Costs?',\n",
       " \"Do You Know How Much John Hardy Women's Legends Naga Gold & Silver Dragon Station Chain Bracelet Costs?\",\n",
       " 'Do You Know How Much Solid Gold Petite Micropave  Costs?',\n",
       " 'Do You Know How Much White Gold Plated Princess Costs?',\n",
       " 'Do You Know How Much Pierced Owl Rose Gold Plated Stainless Steel Double Costs?',\n",
       " 'Do You Know How Much WD 2TB Elements Portable External Hard Drive - USB 3.0  Costs?',\n",
       " 'Do You Know How Much SanDisk SSD PLUS 1TB Internal SSD - SATA III 6 Gb/s Costs?',\n",
       " 'Do You Know How Much Silicon Power 256GB SSD 3D NAND A55 SLC Cache Performance Boost SATA III 2.5 Costs?',\n",
       " 'Do You Know How Much WD 4TB Gaming Drive Works with Playstation 4 Portable External Hard Drive Costs?',\n",
       " 'Do You Know How Much Acer SB220Q bi 21.5 inches Full HD (1920 x 1080) IPS Ultra-Thin Costs?',\n",
       " 'Do You Know How Much Samsung 49-Inch CHG90 144Hz Curved Gaming Monitor (LC49HG90DMNXZA) – Super Ultrawide Screen QLED  Costs?',\n",
       " \"Do You Know How Much BIYLACLESEN Women's 3-in-1 Snowboard Jacket Winter Coats Costs?\",\n",
       " \"Do You Know How Much Lock and Love Women's Removable Hooded Faux Leather Moto Biker Jacket Costs?\",\n",
       " 'Do You Know How Much Rain Jacket Women Windbreaker Striped Climbing Raincoats Costs?',\n",
       " \"Do You Know How Much MBJ Women's Solid Short Sleeve Boat Neck V  Costs?\",\n",
       " \"Do You Know How Much Opna Women's Short Sleeve Moisture Costs?\",\n",
       " 'Do You Know How Much DANVOUY Womens T Shirt Casual Cotton Short Costs?',\n",
       " 'Would You Please Tell Me the Price of Fjallraven - Foldsack No. 1 Backpack, Fits 15 Laptops?',\n",
       " 'Would You Please Tell Me the Price of Mens Casual Premium Slim Fit T-Shirts ?',\n",
       " 'Would You Please Tell Me the Price of Mens Cotton Jacket?',\n",
       " 'Would You Please Tell Me the Price of Mens Casual Slim Fit?',\n",
       " \"Would You Please Tell Me the Price of John Hardy Women's Legends Naga Gold & Silver Dragon Station Chain Bracelet?\",\n",
       " 'Would You Please Tell Me the Price of Solid Gold Petite Micropave ?',\n",
       " 'Would You Please Tell Me the Price of White Gold Plated Princess?',\n",
       " 'Would You Please Tell Me the Price of Pierced Owl Rose Gold Plated Stainless Steel Double?',\n",
       " 'Would You Please Tell Me the Price of WD 2TB Elements Portable External Hard Drive - USB 3.0 ?',\n",
       " 'Would You Please Tell Me the Price of SanDisk SSD PLUS 1TB Internal SSD - SATA III 6 Gb/s?',\n",
       " 'Would You Please Tell Me the Price of Silicon Power 256GB SSD 3D NAND A55 SLC Cache Performance Boost SATA III 2.5?',\n",
       " 'Would You Please Tell Me the Price of WD 4TB Gaming Drive Works with Playstation 4 Portable External Hard Drive?',\n",
       " 'Would You Please Tell Me the Price of Acer SB220Q bi 21.5 inches Full HD (1920 x 1080) IPS Ultra-Thin?',\n",
       " 'Would You Please Tell Me the Price of Samsung 49-Inch CHG90 144Hz Curved Gaming Monitor (LC49HG90DMNXZA) – Super Ultrawide Screen QLED ?',\n",
       " \"Would You Please Tell Me the Price of BIYLACLESEN Women's 3-in-1 Snowboard Jacket Winter Coats?\",\n",
       " \"Would You Please Tell Me the Price of Lock and Love Women's Removable Hooded Faux Leather Moto Biker Jacket?\",\n",
       " 'Would You Please Tell Me the Price of Rain Jacket Women Windbreaker Striped Climbing Raincoats?',\n",
       " \"Would You Please Tell Me the Price of MBJ Women's Solid Short Sleeve Boat Neck V ?\",\n",
       " \"Would You Please Tell Me the Price of Opna Women's Short Sleeve Moisture?\",\n",
       " 'Would You Please Tell Me the Price of DANVOUY Womens T Shirt Casual Cotton Short?']"
      ]
     },
     "execution_count": 5,
     "metadata": {},
     "output_type": "execute_result"
    }
   ],
   "source": [
    "intents['intents'][20]['text']"
   ]
  },
  {
   "cell_type": "code",
   "execution_count": 6,
   "metadata": {},
   "outputs": [],
   "source": [
    "for intent in intents['intents']:\n",
    "    tag = intent['intent']\n",
    "    tags.append(tag)\n",
    "    for pattern in intent['text']:\n",
    "        w = tokenize(pattern)\n",
    "        all_words.extend(w)\n",
    "        xy.append((w, tag))"
   ]
  },
  {
   "cell_type": "code",
   "execution_count": 7,
   "metadata": {},
   "outputs": [],
   "source": [
    "# print(all_words, \"\\n\\n\")\n",
    "# print(tags, \"\\n\\n\")\n",
    "# print(xy, \"\\n\\n\")\n",
    "# print([data for data in xy if data[1]=='Products'], \"\\n\\n\")"
   ]
  },
  {
   "cell_type": "code",
   "execution_count": 8,
   "metadata": {},
   "outputs": [],
   "source": [
    "ignore_words = ['?', '.', '!']\n",
    "all_words = [stem(w) for w in all_words if w not in ignore_words]\n",
    "all_words = sorted(set(all_words))\n",
    "tags = sorted(set(tags))"
   ]
  },
  {
   "cell_type": "code",
   "execution_count": 9,
   "metadata": {},
   "outputs": [
    {
     "name": "stdout",
     "output_type": "stream",
     "text": [
      "271 patterns\n",
      "21 tags: ['Clever', 'CourtesyGoodBye', 'CourtesyGreeting', 'CourtesyGreetingResponse', 'CurrentHumanQuery', 'GoodBye', 'Greeting', 'GreetingResponse', 'NameQuery', 'NotTalking2U', 'PodBayDoor', 'PodBayDoorResponse', 'ProductQuery', 'RealNameQuery', 'SelfAware', 'Shutup', 'Swearing', 'Thanks', 'TimeQuery', 'UnderstandQuery', 'WhoAmI']\n",
      "230 unique stemmed words: ['0', '1', '1080', '144hz', '15', '1920', '1tb', '2', '21', '256gb', '2tb', '3', '3d', '4', '49', '4tb', '5', '6', 'a', 'a55', 'acer', 'adam', 'adio', 'am', 'and', 'anyon', 'are', 'ask', 'awar', 'backpack', 'bay', 'be', 'bella', 'bi', 'biker', 'biylaclesen', 'boat', 'boost', 'bracelet', 'by', 'bye', 'cach', 'call', 'camera', 'can', 'casual', 'chain', 'chg90', 'clever', 'climb', 'coat', 'commun', 'comprendo', 'consciou', 'cost', 'cotton', 'could', 'curv', 'danvouy', 'do', 'doe', 'door', 'doubl', 'dragon', 'drive', 'element', 'enough', 'extern', 'faux', 'fit', 'fjallraven', 'foldsack', 'for', 'friend', 'fuck', 'full', 'game', 'gb', 'geniou', 'get', 'girl', 'gold', 'good', 'goodby', 'great', 'hard', 'hardi', 'have', 'hd', 'hello', 'help', 'hi', 'hola', 'hood', 'hope', 'how', 'hya', 'i', 'identifi', 'iii', 'in', 'inch', 'intellig', 'intern', 'ip', 'is', 'it', 'jacket', 'john', 'know', 'laptop', 'later', 'lc49hg90dmnxza', 'leather', 'legend', 'lock', 'love', 'mbj', 'me', 'mean', 'meant', 'men', 'micropav', 'moistur', 'monitor', 'moto', 'much', 'my', 'naga', 'name', 'nand', 'neck', 'no', 'not', 'of', 'off', 'ok', 'open', 'opna', 'owl', 'perform', 'petit', 'pierc', 'plate', 'playstat', 'pleas', 'plu', 'pod', 'portabl', 'power', 'premium', 'price', 'princess', 'prove', 'qled', 'quiet', 'rain', 'raincoat', 'real', 'remov', 'rose', 's', 'samsung', 'sandisk', 'sata', 'say', 'sb220q', 'screen', 'see', 'self', 'shhh', 'shirt', 'shit', 'short', 'shut', 'silicon', 'silver', 'slc', 'sleev', 'slim', 'snowboard', 'solid', 'speak', 'ssd', 'stainless', 'station', 'steel', 'stop', 'stripe', 'super', 'sure', 't', 'talk', 'tell', 'thank', 'that', 'the', 'there', 'thi', 'thin', 'think', 'time', 'to', 'twat', 'ultra', 'ultrawid', 'understand', 'up', 'usb', 'user', 'v', 'veri', 'wa', 'wasn', 'wd', 'well', 'what', 'whi', 'white', 'who', 'will', 'windbreak', 'winter', 'with', 'women', 'work', 'would', 'x', 'you', 'your']\n"
     ]
    }
   ],
   "source": [
    "print(len(xy), \"patterns\")\n",
    "print(len(tags), \"tags:\", tags)\n",
    "print(len(all_words), \"unique stemmed words:\", all_words)"
   ]
  },
  {
   "cell_type": "code",
   "execution_count": 10,
   "metadata": {},
   "outputs": [],
   "source": [
    "X_train = []\n",
    "y_train = []\n",
    "for (pattern_sentence, tag) in xy:\n",
    "    bag = bag_of_words(pattern_sentence, all_words)\n",
    "    X_train.append(bag)\n",
    "    label = tags.index(tag)\n",
    "    y_train.append(label)"
   ]
  },
  {
   "cell_type": "code",
   "execution_count": 11,
   "metadata": {},
   "outputs": [],
   "source": [
    "X_train = np.array(X_train)\n",
    "y_train = np.array(y_train)"
   ]
  },
  {
   "cell_type": "code",
   "execution_count": 12,
   "metadata": {},
   "outputs": [
    {
     "name": "stdout",
     "output_type": "stream",
     "text": [
      "230 21\n"
     ]
    }
   ],
   "source": [
    "num_epochs = 1000\n",
    "batch_size = 8\n",
    "learning_rate = 0.001\n",
    "input_size = len(X_train[0])\n",
    "hidden_size = 10\n",
    "output_size = len(tags)\n",
    "print(input_size, output_size)"
   ]
  },
  {
   "cell_type": "code",
   "execution_count": 13,
   "metadata": {},
   "outputs": [],
   "source": [
    "dataset = ChatDataset(X_train, y_train)\n",
    "train_loader = DataLoader(dataset=dataset,\n",
    "                          batch_size=batch_size,\n",
    "                          shuffle=True,\n",
    "                          num_workers=0)"
   ]
  },
  {
   "cell_type": "code",
   "execution_count": 14,
   "metadata": {},
   "outputs": [],
   "source": [
    "device = torch.device('cuda' if torch.cuda.is_available() else 'cpu')"
   ]
  },
  {
   "cell_type": "code",
   "execution_count": 15,
   "metadata": {},
   "outputs": [],
   "source": [
    "model = NeuralNet(input_size, hidden_size, output_size).to(device)"
   ]
  },
  {
   "cell_type": "code",
   "execution_count": 16,
   "metadata": {},
   "outputs": [],
   "source": [
    "criterion = nn.CrossEntropyLoss()\n",
    "optimizer = torch.optim.Adam(model.parameters(), lr=learning_rate)"
   ]
  },
  {
   "cell_type": "code",
   "execution_count": 17,
   "metadata": {},
   "outputs": [
    {
     "name": "stdout",
     "output_type": "stream",
     "text": [
      "Epoch [100/1000], Loss: 0.0022\n",
      "Epoch [200/1000], Loss: 0.0000\n",
      "Epoch [300/1000], Loss: 0.0000\n",
      "Epoch [400/1000], Loss: 0.0000\n",
      "Epoch [500/1000], Loss: 0.0000\n",
      "Epoch [600/1000], Loss: 0.0000\n",
      "Epoch [700/1000], Loss: 0.0000\n",
      "Epoch [800/1000], Loss: 0.0000\n",
      "Epoch [900/1000], Loss: 0.0000\n",
      "Epoch [1000/1000], Loss: 0.0000\n"
     ]
    }
   ],
   "source": [
    "for epoch in range(num_epochs):\n",
    "    for (words, labels) in train_loader:\n",
    "        words = words.to(device)\n",
    "        labels = labels.to(dtype=torch.long).to(device)\n",
    "        \n",
    "        # Forward pass\n",
    "        outputs = model(words)\n",
    "        # if y would be one-hot, we must apply\n",
    "        # labels = torch.max(labels, 1)[1]\n",
    "        loss = criterion(outputs, labels)\n",
    "        \n",
    "        # Backward and optimize\n",
    "        optimizer.zero_grad()\n",
    "        loss.backward()\n",
    "        optimizer.step()\n",
    "        \n",
    "    if (epoch+1) % 100 == 0:\n",
    "        print (f'Epoch [{epoch+1}/{num_epochs}], Loss: {loss.item():.4f}')"
   ]
  },
  {
   "cell_type": "code",
   "execution_count": 18,
   "metadata": {},
   "outputs": [
    {
     "name": "stdout",
     "output_type": "stream",
     "text": [
      "final loss: 0.0000\n"
     ]
    }
   ],
   "source": [
    "print(f'final loss: {loss.item():.4f}')"
   ]
  },
  {
   "cell_type": "code",
   "execution_count": 19,
   "metadata": {},
   "outputs": [
    {
     "name": "stdout",
     "output_type": "stream",
     "text": [
      "training complete. file saved to ./models/intent.pth\n"
     ]
    }
   ],
   "source": [
    "data = {\n",
    "\"model_state\": model.state_dict(),\n",
    "\"input_size\": input_size,\n",
    "\"hidden_size\": hidden_size,\n",
    "\"output_size\": output_size,\n",
    "\"all_words\": all_words,\n",
    "\"tags\": tags\n",
    "}\n",
    "\n",
    "FILE = \"./models/intent.pth\"\n",
    "torch.save(data, FILE)\n",
    "\n",
    "print(f'training complete. file saved to {FILE}')"
   ]
  }
 ],
 "metadata": {
  "kernelspec": {
   "display_name": "mybase",
   "language": "python",
   "name": "python3"
  },
  "language_info": {
   "codemirror_mode": {
    "name": "ipython",
    "version": 3
   },
   "file_extension": ".py",
   "mimetype": "text/x-python",
   "name": "python",
   "nbconvert_exporter": "python",
   "pygments_lexer": "ipython3",
   "version": "3.10.8"
  },
  "orig_nbformat": 4,
  "vscode": {
   "interpreter": {
    "hash": "63dd3476773ec03dd9d9bac71f5f145a2cbd5a3a500695cf3c2da4a610a8a60c"
   }
  }
 },
 "nbformat": 4,
 "nbformat_minor": 2
}
