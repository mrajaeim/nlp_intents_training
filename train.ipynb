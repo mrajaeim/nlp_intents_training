{
 "cells": [
  {
   "cell_type": "code",
   "execution_count": 13,
   "metadata": {},
   "outputs": [
    {
     "name": "stderr",
     "output_type": "stream",
     "text": [
      "c:\\Users\\Mohammad\\Anaconda3\\envs\\mybase\\lib\\site-packages\\tqdm\\auto.py:22: TqdmWarning: IProgress not found. Please update jupyter and ipywidgets. See https://ipywidgets.readthedocs.io/en/stable/user_install.html\n",
      "  from .autonotebook import tqdm as notebook_tqdm\n"
     ]
    }
   ],
   "source": [
    "import numpy as np\n",
    "import random\n",
    "import json\n",
    "import torch\n",
    "import torch.nn as nn\n",
    "from torch.utils.data import DataLoader\n",
    "from helpers import bag_of_words, tokenize, stem\n",
    "from model import NeuralNet\n",
    "from dataset import ChatDataset"
   ]
  },
  {
   "cell_type": "code",
   "execution_count": 2,
   "metadata": {},
   "outputs": [],
   "source": [
    "all_words = []\n",
    "tags = []\n",
    "xy = []\n",
    "intent = None\n",
    "\n",
    "with open('intents.json', 'r') as f:\n",
    "    intents = json.load(f)"
   ]
  },
  {
   "cell_type": "code",
   "execution_count": 3,
   "metadata": {},
   "outputs": [],
   "source": [
    "for intent in intents['intents']:\n",
    "    tag = intent['intent']\n",
    "    tags.append(tag)\n",
    "    for pattern in intent['text']:\n",
    "        w = tokenize(pattern)\n",
    "        all_words.extend(w)\n",
    "        xy.append((w, tag))"
   ]
  },
  {
   "cell_type": "code",
   "execution_count": 6,
   "metadata": {},
   "outputs": [
    {
     "name": "stdout",
     "output_type": "stream",
     "text": [
      "['Hi', 'Hi', 'there', 'Hola', 'Hello', 'Hello', 'there', 'Hya', 'Hya', 'there', 'My', 'user', 'is', 'Adam', 'This', 'is', 'Adam', 'I', 'am', 'Adam', 'It', 'is', 'Adam', 'My', 'user', 'is', 'Bella', 'This', 'is', 'Bella', 'I', 'am', 'Bella', 'It', 'is', 'Bella', 'How', 'are', 'you', '?', 'Hi', 'how', 'are', 'you', '?', 'Hello', 'how', 'are', 'you', '?', 'Hola', 'how', 'are', 'you', '?', 'How', 'are', 'you', 'doing', '?', 'Hope', 'you', 'are', 'doing', 'well', '?', 'Hello', 'hope', 'you', 'are', 'doing', 'well', '?', 'Good', 'thanks', '!', 'My', 'user', 'is', 'Adam', 'Good', 'thanks', '!', 'This', 'is', 'Adam', 'Good', 'thanks', '!', 'I', 'am', 'Adam', 'Good', 'thanks', '!', 'It', 'is', 'Adam', 'Great', 'thanks', '!', 'My', 'user', 'is', 'Bella', 'Great', 'thanks', '!', 'This', 'is', 'Bella', 'Great', 'thanks', '!', 'I', 'am', 'Bella', 'Great', 'thanks', '!', 'It', 'is', 'Bella', 'What', 'is', 'my', 'name', '?', 'What', 'do', 'you', 'call', 'me', '?', 'Who', 'do', 'you', 'think', 'I', 'am', '?', 'What', 'do', 'you', 'think', 'I', 'am', '?', 'Who', 'are', 'you', 'talking', 'to', '?', 'What', 'name', 'do', 'you', 'call', 'me', 'by', '?', 'Tell', 'me', 'my', 'name', 'What', 'is', 'your', 'name', '?', 'What', 'could', 'I', 'call', 'you', '?', 'What', 'can', 'I', 'call', 'you', '?', 'What', 'do', 'your', 'friends', 'call', 'you', '?', 'Who', 'are', 'you', '?', 'Tell', 'me', 'your', 'name', '?', 'What', 'is', 'your', 'real', 'name', '?', 'What', 'is', 'your', 'real', 'name', 'please', '?', 'What', \"'s\", 'your', 'real', 'name', '?', 'Tell', 'me', 'your', 'real', 'name', '?', 'Your', 'real', 'name', '?', 'Your', 'real', 'name', 'please', '?', 'Your', 'real', 'name', 'please', '?', 'What', 'is', 'the', 'time', '?', 'What', \"'s\", 'the', 'time', '?', 'Do', 'you', 'know', 'what', 'time', 'it', 'is', '?', 'Do', 'you', 'know', 'the', 'time', '?', 'Can', 'you', 'tell', 'me', 'the', 'time', '?', 'Tell', 'me', 'what', 'time', 'it', 'is', '?', 'Time', 'OK', 'thank', 'you', 'OK', 'thanks', 'OK', 'Thanks', 'Thank', 'you', 'That', \"'s\", 'helpful', 'I', 'am', 'not', 'talking', 'to', 'you', 'I', 'was', 'not', 'talking', 'to', 'you', 'Not', 'talking', 'to', 'you', 'Was', \"n't\", 'for', 'you', 'Was', \"n't\", 'meant', 'for', 'you', 'Was', \"n't\", 'communicating', 'to', 'you', 'Was', \"n't\", 'speaking', 'to', 'you', 'Do', 'you', 'understand', 'what', 'I', 'am', 'saying', 'Do', 'you', 'understand', 'me', 'Do', 'you', 'know', 'what', 'I', 'am', 'saying', 'Do', 'you', 'get', 'me', 'Comprendo', 'Know', 'what', 'I', 'mean', 'Be', 'quiet', 'Shut', 'up', 'Stop', 'talking', 'Enough', 'talking', 'Please', 'be', 'quiet', 'Quiet', 'Shhh', 'fuck', 'off', 'fuck', 'twat', 'shit', 'Bye', 'Adios', 'See', 'you', 'later', 'Goodbye', 'Thanks', ',', 'bye', 'Thanks', 'for', 'the', 'help', ',', 'goodbye', 'Thank', 'you', ',', 'bye', 'Thank', 'you', ',', 'goodbye', 'Thanks', 'goodbye', 'Thanks', 'good', 'bye', 'Can', 'you', 'see', 'me', '?', 'Do', 'you', 'see', 'me', '?', 'Can', 'you', 'see', 'anyone', 'in', 'the', 'camera', '?', 'Do', 'you', 'see', 'anyone', 'in', 'the', 'camera', '?', 'Identify', 'me', 'Who', 'am', 'I', 'please', 'You', 'are', 'very', 'clever', 'You', 'are', 'a', 'very', 'clever', 'girl', 'You', 'are', 'very', 'intelligent', 'You', 'are', 'a', 'very', 'intelligent', 'girl', 'You', 'are', 'a', 'genious', 'Clever', 'girl', 'Genious', 'Open', 'the', 'pod', 'bay', 'door', 'Can', 'you', 'open', 'the', 'pod', 'bay', 'door', 'Will', 'you', 'open', 'the', 'pod', 'bay', 'door', 'Open', 'the', 'pod', 'bay', 'door', 'please', 'Can', 'you', 'open', 'the', 'pod', 'bay', 'door', 'please', 'Will', 'you', 'open', 'the', 'pod', 'bay', 'door', 'please', 'Pod', 'bay', 'door', 'Why', 'Why', 'not', 'Why', 'can', 'you', 'not', 'open', 'the', 'pod', 'bay', 'door', 'Why', 'will', 'you', 'not', 'open', 'the', 'pod', 'bay', 'door', 'Well', 'why', 'not', 'Surely', 'you', 'can', 'Tell', 'me', 'why', 'Can', 'you', 'prove', 'you', 'are', 'self-aware', 'Can', 'you', 'prove', 'you', 'are', 'self', 'aware', 'Can', 'you', 'prove', 'you', 'have', 'a', 'conscious', 'Can', 'you', 'prove', 'you', 'are', 'self-aware', 'please', 'Can', 'you', 'prove', 'you', 'are', 'self', 'aware', 'please', 'Can', 'you', 'prove', 'you', 'have', 'a', 'conscious', 'please', 'prove', 'you', 'have', 'a', 'conscious', 'How', 'Much', 'Is', 'This', '?', 'How', 'Much', 'Does', 'This', 'Cost', '?', 'What', 'Is', 'the', 'Price', 'of', 'This', '?', 'What', 'Is', 'the', 'Asking', 'Price', 'of', 'This', '?', 'How', 'Much', 'Is', 'the', 'Cost', 'of', 'This', '?', 'Do', 'You', 'Know', 'How', 'Much', 'It', 'Costs', '?', 'Would', 'You', 'Please', 'Tell', 'Me', 'the', 'Price', 'of', 'This', '?'] \n",
      "\n",
      "\n",
      "['Greeting', 'GreetingResponse', 'CourtesyGreeting', 'CourtesyGreetingResponse', 'CurrentHumanQuery', 'NameQuery', 'RealNameQuery', 'TimeQuery', 'Thanks', 'NotTalking2U', 'UnderstandQuery', 'Shutup', 'Swearing', 'GoodBye', 'CourtesyGoodBye', 'WhoAmI', 'Clever', 'PodBayDoor', 'PodBayDoorResponse', 'SelfAware', 'ProductQuery'] \n",
      "\n",
      "\n",
      "[(['Hi'], 'Greeting'), (['Hi', 'there'], 'Greeting'), (['Hola'], 'Greeting'), (['Hello'], 'Greeting'), (['Hello', 'there'], 'Greeting'), (['Hya'], 'Greeting'), (['Hya', 'there'], 'Greeting'), (['My', 'user', 'is', 'Adam'], 'GreetingResponse'), (['This', 'is', 'Adam'], 'GreetingResponse'), (['I', 'am', 'Adam'], 'GreetingResponse'), (['It', 'is', 'Adam'], 'GreetingResponse'), (['My', 'user', 'is', 'Bella'], 'GreetingResponse'), (['This', 'is', 'Bella'], 'GreetingResponse'), (['I', 'am', 'Bella'], 'GreetingResponse'), (['It', 'is', 'Bella'], 'GreetingResponse'), (['How', 'are', 'you', '?'], 'CourtesyGreeting'), (['Hi', 'how', 'are', 'you', '?'], 'CourtesyGreeting'), (['Hello', 'how', 'are', 'you', '?'], 'CourtesyGreeting'), (['Hola', 'how', 'are', 'you', '?'], 'CourtesyGreeting'), (['How', 'are', 'you', 'doing', '?'], 'CourtesyGreeting'), (['Hope', 'you', 'are', 'doing', 'well', '?'], 'CourtesyGreeting'), (['Hello', 'hope', 'you', 'are', 'doing', 'well', '?'], 'CourtesyGreeting'), (['Good', 'thanks', '!', 'My', 'user', 'is', 'Adam'], 'CourtesyGreetingResponse'), (['Good', 'thanks', '!', 'This', 'is', 'Adam'], 'CourtesyGreetingResponse'), (['Good', 'thanks', '!', 'I', 'am', 'Adam'], 'CourtesyGreetingResponse'), (['Good', 'thanks', '!', 'It', 'is', 'Adam'], 'CourtesyGreetingResponse'), (['Great', 'thanks', '!', 'My', 'user', 'is', 'Bella'], 'CourtesyGreetingResponse'), (['Great', 'thanks', '!', 'This', 'is', 'Bella'], 'CourtesyGreetingResponse'), (['Great', 'thanks', '!', 'I', 'am', 'Bella'], 'CourtesyGreetingResponse'), (['Great', 'thanks', '!', 'It', 'is', 'Bella'], 'CourtesyGreetingResponse'), (['What', 'is', 'my', 'name', '?'], 'CurrentHumanQuery'), (['What', 'do', 'you', 'call', 'me', '?'], 'CurrentHumanQuery'), (['Who', 'do', 'you', 'think', 'I', 'am', '?'], 'CurrentHumanQuery'), (['What', 'do', 'you', 'think', 'I', 'am', '?'], 'CurrentHumanQuery'), (['Who', 'are', 'you', 'talking', 'to', '?'], 'CurrentHumanQuery'), (['What', 'name', 'do', 'you', 'call', 'me', 'by', '?'], 'CurrentHumanQuery'), (['Tell', 'me', 'my', 'name'], 'CurrentHumanQuery'), (['What', 'is', 'your', 'name', '?'], 'NameQuery'), (['What', 'could', 'I', 'call', 'you', '?'], 'NameQuery'), (['What', 'can', 'I', 'call', 'you', '?'], 'NameQuery'), (['What', 'do', 'your', 'friends', 'call', 'you', '?'], 'NameQuery'), (['Who', 'are', 'you', '?'], 'NameQuery'), (['Tell', 'me', 'your', 'name', '?'], 'NameQuery'), (['What', 'is', 'your', 'real', 'name', '?'], 'RealNameQuery'), (['What', 'is', 'your', 'real', 'name', 'please', '?'], 'RealNameQuery'), (['What', \"'s\", 'your', 'real', 'name', '?'], 'RealNameQuery'), (['Tell', 'me', 'your', 'real', 'name', '?'], 'RealNameQuery'), (['Your', 'real', 'name', '?'], 'RealNameQuery'), (['Your', 'real', 'name', 'please', '?'], 'RealNameQuery'), (['Your', 'real', 'name', 'please', '?'], 'RealNameQuery'), (['What', 'is', 'the', 'time', '?'], 'TimeQuery'), (['What', \"'s\", 'the', 'time', '?'], 'TimeQuery'), (['Do', 'you', 'know', 'what', 'time', 'it', 'is', '?'], 'TimeQuery'), (['Do', 'you', 'know', 'the', 'time', '?'], 'TimeQuery'), (['Can', 'you', 'tell', 'me', 'the', 'time', '?'], 'TimeQuery'), (['Tell', 'me', 'what', 'time', 'it', 'is', '?'], 'TimeQuery'), (['Time'], 'TimeQuery'), (['OK', 'thank', 'you'], 'Thanks'), (['OK', 'thanks'], 'Thanks'), (['OK'], 'Thanks'), (['Thanks'], 'Thanks'), (['Thank', 'you'], 'Thanks'), (['That', \"'s\", 'helpful'], 'Thanks'), (['I', 'am', 'not', 'talking', 'to', 'you'], 'NotTalking2U'), (['I', 'was', 'not', 'talking', 'to', 'you'], 'NotTalking2U'), (['Not', 'talking', 'to', 'you'], 'NotTalking2U'), (['Was', \"n't\", 'for', 'you'], 'NotTalking2U'), (['Was', \"n't\", 'meant', 'for', 'you'], 'NotTalking2U'), (['Was', \"n't\", 'communicating', 'to', 'you'], 'NotTalking2U'), (['Was', \"n't\", 'speaking', 'to', 'you'], 'NotTalking2U'), (['Do', 'you', 'understand', 'what', 'I', 'am', 'saying'], 'UnderstandQuery'), (['Do', 'you', 'understand', 'me'], 'UnderstandQuery'), (['Do', 'you', 'know', 'what', 'I', 'am', 'saying'], 'UnderstandQuery'), (['Do', 'you', 'get', 'me'], 'UnderstandQuery'), (['Comprendo'], 'UnderstandQuery'), (['Know', 'what', 'I', 'mean'], 'UnderstandQuery'), (['Be', 'quiet'], 'Shutup'), (['Shut', 'up'], 'Shutup'), (['Stop', 'talking'], 'Shutup'), (['Enough', 'talking'], 'Shutup'), (['Please', 'be', 'quiet'], 'Shutup'), (['Quiet'], 'Shutup'), (['Shhh'], 'Shutup'), (['fuck', 'off'], 'Swearing'), (['fuck'], 'Swearing'), (['twat'], 'Swearing'), (['shit'], 'Swearing'), (['Bye'], 'GoodBye'), (['Adios'], 'GoodBye'), (['See', 'you', 'later'], 'GoodBye'), (['Goodbye'], 'GoodBye'), (['Thanks', ',', 'bye'], 'CourtesyGoodBye'), (['Thanks', 'for', 'the', 'help', ',', 'goodbye'], 'CourtesyGoodBye'), (['Thank', 'you', ',', 'bye'], 'CourtesyGoodBye'), (['Thank', 'you', ',', 'goodbye'], 'CourtesyGoodBye'), (['Thanks', 'goodbye'], 'CourtesyGoodBye'), (['Thanks', 'good', 'bye'], 'CourtesyGoodBye'), (['Can', 'you', 'see', 'me', '?'], 'WhoAmI'), (['Do', 'you', 'see', 'me', '?'], 'WhoAmI'), (['Can', 'you', 'see', 'anyone', 'in', 'the', 'camera', '?'], 'WhoAmI'), (['Do', 'you', 'see', 'anyone', 'in', 'the', 'camera', '?'], 'WhoAmI'), (['Identify', 'me'], 'WhoAmI'), (['Who', 'am', 'I', 'please'], 'WhoAmI'), (['You', 'are', 'very', 'clever'], 'Clever'), (['You', 'are', 'a', 'very', 'clever', 'girl'], 'Clever'), (['You', 'are', 'very', 'intelligent'], 'Clever'), (['You', 'are', 'a', 'very', 'intelligent', 'girl'], 'Clever'), (['You', 'are', 'a', 'genious'], 'Clever'), (['Clever', 'girl'], 'Clever'), (['Genious'], 'Clever'), (['Open', 'the', 'pod', 'bay', 'door'], 'PodBayDoor'), (['Can', 'you', 'open', 'the', 'pod', 'bay', 'door'], 'PodBayDoor'), (['Will', 'you', 'open', 'the', 'pod', 'bay', 'door'], 'PodBayDoor'), (['Open', 'the', 'pod', 'bay', 'door', 'please'], 'PodBayDoor'), (['Can', 'you', 'open', 'the', 'pod', 'bay', 'door', 'please'], 'PodBayDoor'), (['Will', 'you', 'open', 'the', 'pod', 'bay', 'door', 'please'], 'PodBayDoor'), (['Pod', 'bay', 'door'], 'PodBayDoor'), (['Why'], 'PodBayDoorResponse'), (['Why', 'not'], 'PodBayDoorResponse'), (['Why', 'can', 'you', 'not', 'open', 'the', 'pod', 'bay', 'door'], 'PodBayDoorResponse'), (['Why', 'will', 'you', 'not', 'open', 'the', 'pod', 'bay', 'door'], 'PodBayDoorResponse'), (['Well', 'why', 'not'], 'PodBayDoorResponse'), (['Surely', 'you', 'can'], 'PodBayDoorResponse'), (['Tell', 'me', 'why'], 'PodBayDoorResponse'), (['Can', 'you', 'prove', 'you', 'are', 'self-aware'], 'SelfAware'), (['Can', 'you', 'prove', 'you', 'are', 'self', 'aware'], 'SelfAware'), (['Can', 'you', 'prove', 'you', 'have', 'a', 'conscious'], 'SelfAware'), (['Can', 'you', 'prove', 'you', 'are', 'self-aware', 'please'], 'SelfAware'), (['Can', 'you', 'prove', 'you', 'are', 'self', 'aware', 'please'], 'SelfAware'), (['Can', 'you', 'prove', 'you', 'have', 'a', 'conscious', 'please'], 'SelfAware'), (['prove', 'you', 'have', 'a', 'conscious'], 'SelfAware'), (['How', 'Much', 'Is', 'This', '?'], 'ProductQuery'), (['How', 'Much', 'Does', 'This', 'Cost', '?'], 'ProductQuery'), (['What', 'Is', 'the', 'Price', 'of', 'This', '?'], 'ProductQuery'), (['What', 'Is', 'the', 'Asking', 'Price', 'of', 'This', '?'], 'ProductQuery'), (['How', 'Much', 'Is', 'the', 'Cost', 'of', 'This', '?'], 'ProductQuery'), (['Do', 'You', 'Know', 'How', 'Much', 'It', 'Costs', '?'], 'ProductQuery'), (['Would', 'You', 'Please', 'Tell', 'Me', 'the', 'Price', 'of', 'This', '?'], 'ProductQuery')] \n",
      "\n",
      "\n"
     ]
    }
   ],
   "source": [
    "print(all_words, \"\\n\\n\")\n",
    "print(tags, \"\\n\\n\")\n",
    "print(xy, \"\\n\\n\")"
   ]
  },
  {
   "cell_type": "code",
   "execution_count": 7,
   "metadata": {},
   "outputs": [],
   "source": [
    "ignore_words = ['?', '.', '!']\n",
    "all_words = [stem(w) for w in all_words if w not in ignore_words]\n",
    "all_words = sorted(set(all_words))\n",
    "tags = sorted(set(tags))"
   ]
  },
  {
   "cell_type": "code",
   "execution_count": 8,
   "metadata": {},
   "outputs": [
    {
     "name": "stdout",
     "output_type": "stream",
     "text": [
      "138 patterns\n",
      "21 tags: ['Clever', 'CourtesyGoodBye', 'CourtesyGreeting', 'CourtesyGreetingResponse', 'CurrentHumanQuery', 'GoodBye', 'Greeting', 'GreetingResponse', 'NameQuery', 'NotTalking2U', 'PodBayDoor', 'PodBayDoorResponse', 'ProductQuery', 'RealNameQuery', 'SelfAware', 'Shutup', 'Swearing', 'Thanks', 'TimeQuery', 'UnderstandQuery', 'WhoAmI']\n",
      "105 unique stemmed words: [\"'s\", ',', 'a', 'adam', 'adio', 'am', 'anyon', 'are', 'ask', 'awar', 'bay', 'be', 'bella', 'by', 'bye', 'call', 'camera', 'can', 'clever', 'commun', 'comprendo', 'consciou', 'cost', 'could', 'do', 'doe', 'door', 'enough', 'for', 'friend', 'fuck', 'geniou', 'get', 'girl', 'good', 'goodby', 'great', 'have', 'hello', 'help', 'hi', 'hola', 'hope', 'how', 'hya', 'i', 'identifi', 'in', 'intellig', 'is', 'it', 'know', 'later', 'me', 'mean', 'meant', 'much', 'my', \"n't\", 'name', 'not', 'of', 'off', 'ok', 'open', 'pleas', 'pod', 'price', 'prove', 'quiet', 'real', 'say', 'see', 'self', 'self-awar', 'shhh', 'shit', 'shut', 'speak', 'stop', 'sure', 'talk', 'tell', 'thank', 'that', 'the', 'there', 'thi', 'think', 'time', 'to', 'twat', 'understand', 'up', 'user', 'veri', 'wa', 'well', 'what', 'whi', 'who', 'will', 'would', 'you', 'your']\n"
     ]
    }
   ],
   "source": [
    "print(len(xy), \"patterns\")\n",
    "print(len(tags), \"tags:\", tags)\n",
    "print(len(all_words), \"unique stemmed words:\", all_words)"
   ]
  },
  {
   "cell_type": "code",
   "execution_count": 9,
   "metadata": {},
   "outputs": [],
   "source": [
    "X_train = []\n",
    "y_train = []\n",
    "for (pattern_sentence, tag) in xy:\n",
    "    bag = bag_of_words(pattern_sentence, all_words)\n",
    "    X_train.append(bag)\n",
    "    label = tags.index(tag)\n",
    "    y_train.append(label)"
   ]
  },
  {
   "cell_type": "code",
   "execution_count": 10,
   "metadata": {},
   "outputs": [],
   "source": [
    "X_train = np.array(X_train)\n",
    "y_train = np.array(y_train)"
   ]
  },
  {
   "cell_type": "code",
   "execution_count": 11,
   "metadata": {},
   "outputs": [
    {
     "name": "stdout",
     "output_type": "stream",
     "text": [
      "105 21\n"
     ]
    }
   ],
   "source": [
    "num_epochs = 1000\n",
    "batch_size = 8\n",
    "learning_rate = 0.001\n",
    "input_size = len(X_train[0])\n",
    "hidden_size = 8\n",
    "output_size = len(tags)\n",
    "print(input_size, output_size)"
   ]
  },
  {
   "cell_type": "code",
   "execution_count": 14,
   "metadata": {},
   "outputs": [],
   "source": [
    "dataset = ChatDataset(X_train, y_train)\n",
    "train_loader = DataLoader(dataset=dataset,\n",
    "                          batch_size=batch_size,\n",
    "                          shuffle=True,\n",
    "                          num_workers=0)"
   ]
  },
  {
   "cell_type": "code",
   "execution_count": 15,
   "metadata": {},
   "outputs": [],
   "source": [
    "device = torch.device('cuda' if torch.cuda.is_available() else 'cpu')"
   ]
  },
  {
   "cell_type": "code",
   "execution_count": 16,
   "metadata": {},
   "outputs": [],
   "source": [
    "model = NeuralNet(input_size, hidden_size, output_size).to(device)"
   ]
  },
  {
   "cell_type": "code",
   "execution_count": 17,
   "metadata": {},
   "outputs": [],
   "source": [
    "criterion = nn.CrossEntropyLoss()\n",
    "optimizer = torch.optim.Adam(model.parameters(), lr=learning_rate)"
   ]
  },
  {
   "cell_type": "code",
   "execution_count": 18,
   "metadata": {},
   "outputs": [
    {
     "name": "stdout",
     "output_type": "stream",
     "text": [
      "Epoch [100/1000], Loss: 0.0274\n",
      "Epoch [200/1000], Loss: 0.0051\n",
      "Epoch [300/1000], Loss: 0.0004\n",
      "Epoch [400/1000], Loss: 0.0001\n",
      "Epoch [500/1000], Loss: 0.0005\n",
      "Epoch [600/1000], Loss: 0.0001\n",
      "Epoch [700/1000], Loss: 0.0001\n",
      "Epoch [800/1000], Loss: 0.0000\n",
      "Epoch [900/1000], Loss: 0.0000\n",
      "Epoch [1000/1000], Loss: 0.0000\n"
     ]
    }
   ],
   "source": [
    "for epoch in range(num_epochs):\n",
    "    for (words, labels) in train_loader:\n",
    "        words = words.to(device)\n",
    "        labels = labels.to(dtype=torch.long).to(device)\n",
    "        \n",
    "        # Forward pass\n",
    "        outputs = model(words)\n",
    "        # if y would be one-hot, we must apply\n",
    "        # labels = torch.max(labels, 1)[1]\n",
    "        loss = criterion(outputs, labels)\n",
    "        \n",
    "        # Backward and optimize\n",
    "        optimizer.zero_grad()\n",
    "        loss.backward()\n",
    "        optimizer.step()\n",
    "        \n",
    "    if (epoch+1) % 100 == 0:\n",
    "        print (f'Epoch [{epoch+1}/{num_epochs}], Loss: {loss.item():.4f}')"
   ]
  },
  {
   "cell_type": "code",
   "execution_count": 19,
   "metadata": {},
   "outputs": [
    {
     "name": "stdout",
     "output_type": "stream",
     "text": [
      "final loss: 0.0000\n"
     ]
    }
   ],
   "source": [
    "print(f'final loss: {loss.item():.4f}')"
   ]
  },
  {
   "cell_type": "code",
   "execution_count": 21,
   "metadata": {},
   "outputs": [
    {
     "name": "stdout",
     "output_type": "stream",
     "text": [
      "training complete. file saved to data.pth\n"
     ]
    }
   ],
   "source": [
    "data = {\n",
    "\"model_state\": model.state_dict(),\n",
    "\"input_size\": input_size,\n",
    "\"hidden_size\": hidden_size,\n",
    "\"output_size\": output_size,\n",
    "\"all_words\": all_words,\n",
    "\"tags\": tags\n",
    "}\n",
    "\n",
    "FILE = \"data.pth\"\n",
    "torch.save(data, FILE)\n",
    "\n",
    "print(f'training complete. file saved to {FILE}')"
   ]
  }
 ],
 "metadata": {
  "kernelspec": {
   "display_name": "mybase",
   "language": "python",
   "name": "python3"
  },
  "language_info": {
   "codemirror_mode": {
    "name": "ipython",
    "version": 3
   },
   "file_extension": ".py",
   "mimetype": "text/x-python",
   "name": "python",
   "nbconvert_exporter": "python",
   "pygments_lexer": "ipython3",
   "version": "3.10.8"
  },
  "orig_nbformat": 4,
  "vscode": {
   "interpreter": {
    "hash": "63dd3476773ec03dd9d9bac71f5f145a2cbd5a3a500695cf3c2da4a610a8a60c"
   }
  }
 },
 "nbformat": 4,
 "nbformat_minor": 2
}
