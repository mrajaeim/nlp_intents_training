{
 "cells": [
  {
   "cell_type": "code",
   "execution_count": 1,
   "metadata": {},
   "outputs": [],
   "source": [
    "from helpers import bag_of_words, stem, tokenize\n",
    "import json"
   ]
  },
  {
   "cell_type": "code",
   "execution_count": 2,
   "metadata": {},
   "outputs": [],
   "source": [
    "with open('./datasets/products.json', encoding=\"utf-8\") as p_file:\n",
    "    products = json.loads(p_file.read())\n",
    "    p_file.close()\n",
    "    \n",
    "product_names = [p['title'] for p in products]"
   ]
  },
  {
   "cell_type": "code",
   "execution_count": 22,
   "metadata": {},
   "outputs": [
    {
     "name": "stdout",
     "output_type": "stream",
     "text": [
      "[\"Fjallraven - Foldsack No. 1 Backpack, Fits 15 Laptops\", \"Mens Casual Premium Slim Fit T-Shirts \", \"Mens Cotton Jacket\", \"Mens Casual Slim Fit\", \"John Hardy Women's Legends Naga Gold & Silver Dragon Station Chain Bracelet\", \"Solid Gold Petite Micropave \", \"White Gold Plated Princess\", \"Pierced Owl Rose Gold Plated Stainless Steel Double\", \"WD 2TB Elements Portable External Hard Drive - USB 3.0 \", \"SanDisk SSD PLUS 1TB Internal SSD - SATA III 6 Gb/s\", \"Silicon Power 256GB SSD 3D NAND A55 SLC Cache Performance Boost SATA III 2.5\", \"WD 4TB Gaming Drive Works with Playstation 4 Portable External Hard Drive\", \"Acer SB220Q bi 21.5 inches Full HD (1920 x 1080) IPS Ultra-Thin\", \"Samsung 49-Inch CHG90 144Hz Curved Gaming Monitor (LC49HG90DMNXZA) \\u2013 Super Ultrawide Screen QLED \", \"BIYLACLESEN Women's 3-in-1 Snowboard Jacket Winter Coats\", \"Lock and Love Women's Removable Hooded Faux Leather Moto Biker Jacket\", \"Rain Jacket Women Windbreaker Striped Climbing Raincoats\", \"MBJ Women's Solid Short Sleeve Boat Neck V \", \"Opna Women's Short Sleeve Moisture\", \"DANVOUY Womens T Shirt Casual Cotton Short\"]\n"
     ]
    }
   ],
   "source": [
    "print(json.dumps(product_names))"
   ]
  },
  {
   "cell_type": "code",
   "execution_count": null,
   "metadata": {},
   "outputs": [],
   "source": [
    "for product in product_names:\n",
    "    print()"
   ]
  },
  {
   "cell_type": "code",
   "execution_count": null,
   "metadata": {},
   "outputs": [],
   "source": [
    "for product in products:\n",
    "    product[\"on_sale\"] = product['id'] % 2 == 0\n",
    "    \n",
    "with open('./datasets/products.json', \"w\", encoding=\"utf-8\") as p_file:\n",
    "    p_file.write(json.dumps(products))\n",
    "    p_file.close()"
   ]
  }
 ],
 "metadata": {
  "kernelspec": {
   "display_name": "mybase",
   "language": "python",
   "name": "python3"
  },
  "language_info": {
   "codemirror_mode": {
    "name": "ipython",
    "version": 3
   },
   "file_extension": ".py",
   "mimetype": "text/x-python",
   "name": "python",
   "nbconvert_exporter": "python",
   "pygments_lexer": "ipython3",
   "version": "3.10.8"
  },
  "orig_nbformat": 4,
  "vscode": {
   "interpreter": {
    "hash": "63dd3476773ec03dd9d9bac71f5f145a2cbd5a3a500695cf3c2da4a610a8a60c"
   }
  }
 },
 "nbformat": 4,
 "nbformat_minor": 2
}
